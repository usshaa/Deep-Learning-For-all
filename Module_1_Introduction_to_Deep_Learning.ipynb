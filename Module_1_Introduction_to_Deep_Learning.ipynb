{
  "nbformat": 4,
  "nbformat_minor": 0,
  "metadata": {
    "colab": {
      "provenance": [],
      "authorship_tag": "ABX9TyMDqW0i4iwiHkAH2wk45aoQ",
      "include_colab_link": true
    },
    "kernelspec": {
      "name": "python3",
      "display_name": "Python 3"
    },
    "language_info": {
      "name": "python"
    }
  },
  "cells": [
    {
      "cell_type": "markdown",
      "metadata": {
        "id": "view-in-github",
        "colab_type": "text"
      },
      "source": [
        "<a href=\"https://colab.research.google.com/github/usshaa/Deep-Learning-For-all/blob/main/Module_1_Introduction_to_Deep_Learning.ipynb\" target=\"_parent\"><img src=\"https://colab.research.google.com/assets/colab-badge.svg\" alt=\"Open In Colab\"/></a>"
      ]
    },
    {
      "cell_type": "markdown",
      "source": [
        "**Module 1: Introduction to Deep Learning** explanation with a practical example in **Google Colab**.\n",
        "\n",
        "---\n",
        "\n",
        "# **📌 Module 1: Introduction to Deep Learning**\n",
        "### 🎯 **Learning Objectives**\n",
        "- Understand what Deep Learning is.\n",
        "- Learn the difference between Machine Learning & Deep Learning.\n",
        "- Explore where Deep Learning is used.\n",
        "- Train a simple Neural Network using TensorFlow/Keras.\n",
        "\n",
        "---\n",
        "\n",
        "## **🔹 What is Deep Learning?**\n",
        "Deep Learning is a subset of **Machine Learning (ML)** that uses **Neural Networks** with multiple layers to **automate feature extraction** and learn complex patterns from data.\n",
        "\n",
        "👉 **Example:** Traditional ML requires manual feature engineering, but Deep Learning can automatically extract features from images, text, or audio.\n",
        "\n",
        "---\n",
        "\n",
        "## **🔹 Difference: Machine Learning vs. Deep Learning**\n",
        "| Aspect            | Machine Learning                     | Deep Learning |\n",
        "|------------------|----------------------------------|--------------|\n",
        "| **Feature Extraction** | Done manually | Learned automatically |\n",
        "| **Algorithm** | Uses models like Decision Trees, SVM, Random Forest | Uses Artificial Neural Networks (ANN) |\n",
        "| **Performance** | Good for small datasets | Excels with large datasets |\n",
        "| **Computational Power** | Requires less power | Needs GPUs/TPUs |\n",
        "\n",
        "📌 **Example:**  \n",
        "- In **ML**, a spam filter needs manual word frequency extraction.\n",
        "- In **DL**, a Neural Network learns patterns from raw email text to detect spam.\n",
        "\n",
        "---\n",
        "\n",
        "## **🔹 Where is Deep Learning Used?**\n",
        "✅ **Computer Vision** (Face Recognition, Object Detection)  \n",
        "✅ **Natural Language Processing (NLP)** (Chatbots, Language Translation)  \n",
        "✅ **Speech Recognition** (Google Assistant, Siri)  \n",
        "✅ **Healthcare** (Disease Detection from X-rays, MRI)  \n",
        "✅ **Autonomous Vehicles** (Self-Driving Cars)  \n",
        "\n",
        "---\n",
        "\n",
        "# **📝 Hands-On Example in Google Colab**\n",
        "### **Building a Simple Neural Network with Keras**\n",
        "We will train a **Deep Neural Network (DNN)** on the famous **MNIST dataset** (handwritten digits).\n",
        "\n",
        "### ✅ **Steps:**\n",
        "1. Import required libraries.\n",
        "2. Load the dataset.\n",
        "3. Normalize & preprocess the data.\n",
        "4. Create a simple Neural Network.\n",
        "5. Train and evaluate the model.\n",
        "\n",
        "---\n",
        "\n"
      ],
      "metadata": {
        "id": "uG8sMGDar4WN"
      }
    },
    {
      "cell_type": "code",
      "source": [
        "# Step 1: Import required libraries\n",
        "import tensorflow as tf\n",
        "from tensorflow import keras\n",
        "import matplotlib.pyplot as plt"
      ],
      "metadata": {
        "id": "MXeMmdTtr4uj"
      },
      "execution_count": 147,
      "outputs": []
    },
    {
      "cell_type": "code",
      "source": [
        "# Step 2: Load the MNIST dataset (Handwritten digits 0-9)\n",
        "(x_train, y_train), (x_test, y_test) = keras.datasets.mnist.load_data()"
      ],
      "metadata": {
        "colab": {
          "base_uri": "https://localhost:8080/"
        },
        "id": "pjSqEU2psLfc",
        "outputId": "0cb8092e-0c8b-44f5-f221-8cb665162d7d"
      },
      "execution_count": 148,
      "outputs": [
        {
          "output_type": "stream",
          "name": "stdout",
          "text": [
            "Downloading data from https://storage.googleapis.com/tensorflow/tf-keras-datasets/mnist.npz\n",
            "\u001b[1m11490434/11490434\u001b[0m \u001b[32m━━━━━━━━━━━━━━━━━━━━\u001b[0m\u001b[37m\u001b[0m \u001b[1m0s\u001b[0m 0us/step\n"
          ]
        }
      ]
    },
    {
      "cell_type": "code",
      "source": [
        "# Step 3: Normalize the data (scale pixel values between 0 and 1)\n",
        "x_train, x_test = x_train / 255.0, x_test / 255.0"
      ],
      "metadata": {
        "id": "_d1howSUsM_O"
      },
      "execution_count": 149,
      "outputs": []
    },
    {
      "cell_type": "code",
      "source": [
        "# Step 4: Build a simple Deep Neural Network\n",
        "model = keras.models.Sequential([\n",
        "    keras.layers.Flatten(input_shape=(28, 28)),  # Flatten 28x28 image to 1D\n",
        "    keras.layers.Dense(128, activation='relu'),  # Hidden layer with 128 neurons\n",
        "    keras.layers.Dense(10, activation='softmax') # Output layer (10 classes for digits 0-9)\n",
        "])"
      ],
      "metadata": {
        "colab": {
          "base_uri": "https://localhost:8080/"
        },
        "id": "MTw4vSMRsOOP",
        "outputId": "c4b3bcd1-5d4b-4683-f876-943f660e075e"
      },
      "execution_count": 150,
      "outputs": [
        {
          "output_type": "stream",
          "name": "stderr",
          "text": [
            "/usr/local/lib/python3.11/dist-packages/keras/src/layers/reshaping/flatten.py:37: UserWarning: Do not pass an `input_shape`/`input_dim` argument to a layer. When using Sequential models, prefer using an `Input(shape)` object as the first layer in the model instead.\n",
            "  super().__init__(**kwargs)\n"
          ]
        }
      ]
    },
    {
      "cell_type": "code",
      "source": [
        "# Step 5: Compile the model\n",
        "model.compile(optimizer='adam',\n",
        "              loss='sparse_categorical_crossentropy',\n",
        "              metrics=['accuracy'])"
      ],
      "metadata": {
        "id": "JB0wJNmqsPoz"
      },
      "execution_count": 151,
      "outputs": []
    },
    {
      "cell_type": "code",
      "source": [
        "# Step 6: Train the model\n",
        "model.fit(x_train, y_train, epochs=5, validation_data=(x_test, y_test))"
      ],
      "metadata": {
        "colab": {
          "base_uri": "https://localhost:8080/"
        },
        "id": "4CnvRIt8sRDB",
        "outputId": "83ec98bc-99cd-42c1-fba5-36083141b33d"
      },
      "execution_count": 152,
      "outputs": [
        {
          "output_type": "stream",
          "name": "stdout",
          "text": [
            "Epoch 1/5\n",
            "\u001b[1m1875/1875\u001b[0m \u001b[32m━━━━━━━━━━━━━━━━━━━━\u001b[0m\u001b[37m\u001b[0m \u001b[1m10s\u001b[0m 5ms/step - accuracy: 0.8759 - loss: 0.4344 - val_accuracy: 0.9586 - val_loss: 0.1388\n",
            "Epoch 2/5\n",
            "\u001b[1m1875/1875\u001b[0m \u001b[32m━━━━━━━━━━━━━━━━━━━━\u001b[0m\u001b[37m\u001b[0m \u001b[1m6s\u001b[0m 3ms/step - accuracy: 0.9647 - loss: 0.1204 - val_accuracy: 0.9686 - val_loss: 0.0992\n",
            "Epoch 3/5\n",
            "\u001b[1m1875/1875\u001b[0m \u001b[32m━━━━━━━━━━━━━━━━━━━━\u001b[0m\u001b[37m\u001b[0m \u001b[1m8s\u001b[0m 4ms/step - accuracy: 0.9761 - loss: 0.0790 - val_accuracy: 0.9761 - val_loss: 0.0784\n",
            "Epoch 4/5\n",
            "\u001b[1m1875/1875\u001b[0m \u001b[32m━━━━━━━━━━━━━━━━━━━━\u001b[0m\u001b[37m\u001b[0m \u001b[1m10s\u001b[0m 4ms/step - accuracy: 0.9829 - loss: 0.0551 - val_accuracy: 0.9756 - val_loss: 0.0789\n",
            "Epoch 5/5\n",
            "\u001b[1m1875/1875\u001b[0m \u001b[32m━━━━━━━━━━━━━━━━━━━━\u001b[0m\u001b[37m\u001b[0m \u001b[1m9s\u001b[0m 3ms/step - accuracy: 0.9859 - loss: 0.0448 - val_accuracy: 0.9768 - val_loss: 0.0752\n"
          ]
        },
        {
          "output_type": "execute_result",
          "data": {
            "text/plain": [
              "<keras.src.callbacks.history.History at 0x7f4cfa2bf550>"
            ]
          },
          "metadata": {},
          "execution_count": 152
        }
      ]
    },
    {
      "cell_type": "code",
      "source": [
        "# Step 7: Evaluate & make predictions\n",
        "test_loss, test_acc = model.evaluate(x_test, y_test, verbose=2)\n",
        "print(f\"Test Accuracy: {test_acc:.4f}\")"
      ],
      "metadata": {
        "colab": {
          "base_uri": "https://localhost:8080/"
        },
        "id": "VTNrqP_RsSWs",
        "outputId": "097a958c-27fc-4ad3-88d1-6d9bb3a21eed"
      },
      "execution_count": 153,
      "outputs": [
        {
          "output_type": "stream",
          "name": "stdout",
          "text": [
            "313/313 - 1s - 2ms/step - accuracy: 0.9768 - loss: 0.0752\n",
            "Test Accuracy: 0.9768\n"
          ]
        }
      ]
    },
    {
      "cell_type": "code",
      "source": [
        "# Step 8: Visualize a sample prediction\n",
        "import numpy as np\n",
        "plt.imshow(x_test[0], cmap='gray')\n",
        "plt.title(f\"Predicted: {np.argmax(model.predict(x_test[:1]))}\")\n",
        "plt.show()"
      ],
      "metadata": {
        "colab": {
          "base_uri": "https://localhost:8080/",
          "height": 469
        },
        "id": "54gcx8Cvsbi3",
        "outputId": "ac8411a1-8d53-4e59-f46f-32c7b73d6e9c"
      },
      "execution_count": 154,
      "outputs": [
        {
          "output_type": "stream",
          "name": "stdout",
          "text": [
            "\u001b[1m1/1\u001b[0m \u001b[32m━━━━━━━━━━━━━━━━━━━━\u001b[0m\u001b[37m\u001b[0m \u001b[1m0s\u001b[0m 123ms/step\n"
          ]
        },
        {
          "output_type": "display_data",
          "data": {
            "text/plain": [
              "<Figure size 640x480 with 1 Axes>"
            ],
            "image/png": "[encoded data removed]"
          },
          "metadata": {}
        }
      ]
    },
    {
      "cell_type": "markdown",
      "source": [
        "# **📊 Explanation of Code**\n",
        "✅ **Step 1:** Importing `TensorFlow` & `Keras` (Framework for Deep Learning).  \n",
        "✅ **Step 2:** Loading the **MNIST dataset** (contains 60,000 training images & 10,000 test images).  \n",
        "✅ **Step 3:** Normalizing images to improve model performance.  \n",
        "✅ **Step 4:** Defining a **Deep Neural Network (DNN)** with:\n",
        "   - **Flatten Layer:** Converts 28x28 images to a 1D array.\n",
        "   - **Dense Layer (128 neurons):** Learns patterns using ReLU activation.\n",
        "   - **Dense Layer (10 neurons):** Outputs probability scores for each digit (0-9) using Softmax.  \n",
        "✅ **Step 5:** Compiling the model with:\n",
        "   - **Adam Optimizer** for efficient learning.\n",
        "   - **Sparse Categorical Crossentropy Loss** for multi-class classification.  \n",
        "✅ **Step 6:** Training the model for 5 epochs.  \n",
        "✅ **Step 7:** Evaluating the accuracy on test data.  \n",
        "✅ **Step 8:** Predicting and visualizing the first test image.\n",
        "\n",
        "---\n",
        "\n",
        "# **🎯 Key Takeaways**\n",
        "- Deep Learning **automates feature extraction**.\n",
        "- It requires **large datasets & high computational power**.\n",
        "- **Neural Networks** consist of layers that **learn representations** from data.\n",
        "- We trained a **simple Neural Network** for **digit classification**.\n",
        "\n",
        "---\n",
        "\n",
        "Would you like to modify the example or add another dataset? 😊"
      ],
      "metadata": {
        "id": "3Qq9sUpnsgD6"
      }
    },
    {
      "cell_type": "code",
      "source": [],
      "metadata": {
        "id": "VMA7vT-PsdSc"
      },
      "execution_count": null,
      "outputs": []
    }
  ]
}
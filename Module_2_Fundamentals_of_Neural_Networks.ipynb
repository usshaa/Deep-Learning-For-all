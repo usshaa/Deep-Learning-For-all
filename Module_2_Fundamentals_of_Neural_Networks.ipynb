{
  "nbformat": 4,
  "nbformat_minor": 0,
  "metadata": {
    "colab": {
      "provenance": [],
      "authorship_tag": "ABX9TyP+5Gln+d5XIzBGB+iD0ovG",
      "include_colab_link": true
    },
    "kernelspec": {
      "name": "python3",
      "display_name": "Python 3"
    },
    "language_info": {
      "name": "python"
    }
  },
  "cells": [
    {
      "cell_type": "markdown",
      "metadata": {
        "id": "view-in-github",
        "colab_type": "text"
      },
      "source": [
        "<a href=\"https://colab.research.google.com/github/usshaa/Deep-Learning-For-all/blob/main/Module_2_Fundamentals_of_Neural_Networks.ipynb\" target=\"_parent\"><img src=\"https://colab.research.google.com/assets/colab-badge.svg\" alt=\"Open In Colab\"/></a>"
      ]
    },
    {
      "cell_type": "markdown",
      "source": [
        "# **📌 Module 2: Fundamentals of Neural Networks**  \n",
        "### 🎯 **Learning Objectives**  \n",
        "- Understand the **Perceptron Model**  \n",
        "- Learn different **Activation Functions**  \n",
        "- Explore **Feedforward Neural Networks (FNN)**  \n",
        "- Understand **Loss Functions** and their importance  \n",
        "- Learn how **Backpropagation & Gradient Descent** work  \n",
        "- Understand different **Optimizers** (SGD, Adam, RMSProp)  \n",
        "\n",
        "---\n",
        "\n",
        "## **🔹 1. Perceptron Model**  \n",
        "\n",
        "### 🔹 **What is a Perceptron?**  \n",
        "A **Perceptron** is the simplest type of Artificial Neural Network (ANN) and acts as a binary classifier. It consists of:  \n",
        "- **Inputs (x1, x2, …, xn)**  \n",
        "- **Weights (w1, w2, …, wn)**  \n",
        "- **Summation function (Σ)**  \n",
        "- **Activation function (f)**  \n",
        "- **Output (y)**  \n",
        "\n",
        "### ✅ **Mathematical Representation:**  \n",
        "\\[\n",
        "y = f\\left(\\sum w_i x_i + b\\right)\n",
        "\\]  \n",
        "\n",
        "### ✅ **Example: Perceptron Code in Colab**\n"
      ],
      "metadata": {
        "id": "Q58_PM0Yt0P4"
      }
    },
    {
      "cell_type": "code",
      "source": [
        "import numpy as np\n",
        "\n",
        "# Perceptron Activation Function (Step Function)\n",
        "def step_function(x):\n",
        "    return 1 if x >= 0 else 0\n",
        "\n",
        "# Perceptron Model\n",
        "class Perceptron:\n",
        "    def __init__(self, input_size, lr=0.1):\n",
        "        self.weights = np.random.randn(input_size)\n",
        "        self.bias = np.random.randn()\n",
        "        self.lr = lr  # Learning Rate\n",
        "\n",
        "    def predict(self, x):\n",
        "        linear_output = np.dot(self.weights, x) + self.bias\n",
        "        return step_function(linear_output)\n",
        "\n",
        "    def train(self, X, y, epochs=10):\n",
        "        for _ in range(epochs):\n",
        "            for i in range(len(X)):\n",
        "                prediction = self.predict(X[i])\n",
        "                error = y[i] - prediction\n",
        "                self.weights += self.lr * error * X[i]  # Update weights\n",
        "                self.bias += self.lr * error  # Update bias\n",
        "\n",
        "# Training Data (AND Gate)\n",
        "X = np.array([[0, 0], [0, 1], [1, 0], [1, 1]])\n",
        "y = np.array([0, 0, 0, 1])  # AND Logic\n",
        "\n",
        "# Train Perceptron\n",
        "p = Perceptron(input_size=2)\n",
        "p.train(X, y)\n",
        "\n",
        "# Test Model\n",
        "for i in range(len(X)):\n",
        "    print(f\"Input: {X[i]}, Predicted Output: {p.predict(X[i])}\")"
      ],
      "metadata": {
        "id": "-crN1mRSTUnj",
        "colab": {
          "base_uri": "https://localhost:8080/"
        },
        "outputId": "0567526e-2d7e-41c9-959e-fe117e07d1ad"
      },
      "execution_count": 155,
      "outputs": [
        {
          "output_type": "stream",
          "name": "stdout",
          "text": [
            "Input: [0 0], Predicted Output: 0\n",
            "Input: [0 1], Predicted Output: 0\n",
            "Input: [1 0], Predicted Output: 0\n",
            "Input: [1 1], Predicted Output: 1\n"
          ]
        }
      ]
    },
    {
      "cell_type": "markdown",
      "source": [
        "✅ **Explanation:** The Perceptron learns to perform the **AND function** by adjusting its weights.  \n",
        "\n",
        "---\n",
        "\n",
        "## **🔹 2. Activation Functions**\n",
        "Activation functions introduce **non-linearity** in neural networks.\n",
        "\n",
        "| Function | Formula | Use Case |\n",
        "|----------|---------|----------|\n",
        "| **Sigmoid** | \\( f(x) = \\frac{1}{1 + e^{-x}} \\) | Probabilities (0 to 1) |\n",
        "| **ReLU** | \\( f(x) = \\max(0, x) \\) | Most common in Deep Learning |\n",
        "| **Tanh** | \\( f(x) = \\frac{e^x - e^{-x}}{e^x + e^{-x}} \\) | Scales between (-1,1) |\n",
        "| **Softmax** | \\( f(x_i) = \\frac{e^{x_i}}{\\sum e^{x_j}} \\) | Multiclass classification |\n",
        "\n",
        "### ✅ **Code: Visualizing Activation Functions**\n"
      ],
      "metadata": {
        "id": "Izh6HOxtuBCY"
      }
    },
    {
      "cell_type": "code",
      "source": [
        "import numpy as np\n",
        "import matplotlib.pyplot as plt\n",
        "\n",
        "# Define Activation Functions\n",
        "def sigmoid(x): return 1 / (1 + np.exp(-x))\n",
        "def relu(x): return np.maximum(0, x)\n",
        "def tanh(x): return np.tanh(x)\n",
        "def softmax(x): return np.exp(x) / np.sum(np.exp(x))\n",
        "\n",
        "# Plot Functions\n",
        "x = np.linspace(-5, 5, 100)\n",
        "plt.figure(figsize=(10, 5))\n",
        "plt.plot(x, sigmoid(x), label=\"Sigmoid\")\n",
        "plt.plot(x, relu(x), label=\"ReLU\")\n",
        "plt.plot(x, tanh(x), label=\"Tanh\")\n",
        "plt.legend()\n",
        "plt.title(\"Activation Functions\")\n",
        "plt.show()"
      ],
      "metadata": {
        "colab": {
          "base_uri": "https://localhost:8080/",
          "height": 468
        },
        "id": "WjiqtXcguAcR",
        "outputId": "ed0bcb15-edd9-4056-936a-5ebe12361978"
      },
      "execution_count": 156,
      "outputs": [
        {
          "output_type": "display_data",
          "data": {
            "text/plain": [
              "<Figure size 1000x500 with 1 Axes>"
            ],
            "image/png": "[encoded data removed]"
          },
          "metadata": {}
        }
      ]
    },
    {
      "cell_type": "markdown",
      "source": [
        "## **🔹 3. Feedforward Neural Networks (FNN)**\n",
        "An **FNN** consists of **input, hidden, and output layers** where data moves **only forward**.\n",
        "\n",
        "### ✅ **Example: Simple FNN in Keras**\n"
      ],
      "metadata": {
        "id": "z7zHq42DuN1C"
      }
    },
    {
      "cell_type": "code",
      "source": [
        "import tensorflow as tf\n",
        "from tensorflow import keras\n",
        "\n",
        "# Create a simple FNN model\n",
        "model = keras.Sequential([\n",
        "    keras.layers.Dense(10, activation='relu', input_shape=(5,)), # Hidden Layer\n",
        "    keras.layers.Dense(1, activation='sigmoid')  # Output Layer\n",
        "])\n",
        "\n",
        "# Compile Model\n",
        "model.compile(optimizer='adam', loss='binary_crossentropy', metrics=['accuracy'])\n",
        "\n",
        "print(model.summary())  # Model architecture"
      ],
      "metadata": {
        "colab": {
          "base_uri": "https://localhost:8080/",
          "height": 276
        },
        "id": "7BZYCchvuNRY",
        "outputId": "fa872521-2151-41a4-d5b5-1869658e0620"
      },
      "execution_count": 157,
      "outputs": [
        {
          "output_type": "stream",
          "name": "stderr",
          "text": [
            "/usr/local/lib/python3.11/dist-packages/keras/src/layers/core/dense.py:87: UserWarning: Do not pass an `input_shape`/`input_dim` argument to a layer. When using Sequential models, prefer using an `Input(shape)` object as the first layer in the model instead.\n",
            "  super().__init__(activity_regularizer=activity_regularizer, **kwargs)\n"
          ]
        },
        {
          "output_type": "display_data",
          "data": {
            "text/plain": [
              "\u001b[1mModel: \"sequential_1\"\u001b[0m\n"
            ],
            "text/html": [
              "<pre style=\"white-space:pre;overflow-x:auto;line-height:normal;font-family:Menlo,'DejaVu Sans Mono',consolas,'Courier New',monospace\"><span style=\"font-weight: bold\">Model: \"sequential_1\"</span>\n",
              "</pre>\n"
            ]
          },
          "metadata": {}
        },
        {
          "output_type": "display_data",
          "data": {
            "text/plain": [
              "┏━━━━━━━━━━━━━━━━━━━━━━━━━━━━━━━━━━━━━━┳━━━━━━━━━━━━━━━━━━━━━━━━━━━━━┳━━━━━━━━━━━━━━━━━┓\n",
              "┃\u001b[1m \u001b[0m\u001b[1mLayer (type)                        \u001b[0m\u001b[1m \u001b[0m┃\u001b[1m \u001b[0m\u001b[1mOutput Shape               \u001b[0m\u001b[1m \u001b[0m┃\u001b[1m \u001b[0m\u001b[1m        Param #\u001b[0m\u001b[1m \u001b[0m┃\n",
              "┡━━━━━━━━━━━━━━━━━━━━━━━━━━━━━━━━━━━━━━╇━━━━━━━━━━━━━━━━━━━━━━━━━━━━━╇━━━━━━━━━━━━━━━━━┩\n",
              "│ dense_2 (\u001b[38;5;33mDense\u001b[0m)                      │ (\u001b[38;5;45mNone\u001b[0m, \u001b[38;5;34m10\u001b[0m)                  │              \u001b[38;5;34m60\u001b[0m │\n",
              "├──────────────────────────────────────┼─────────────────────────────┼─────────────────┤\n",
              "│ dense_3 (\u001b[38;5;33mDense\u001b[0m)                      │ (\u001b[38;5;45mNone\u001b[0m, \u001b[38;5;34m1\u001b[0m)                   │              \u001b[38;5;34m11\u001b[0m │\n",
              "└──────────────────────────────────────┴─────────────────────────────┴─────────────────┘\n"
            ],
            "text/html": [
              "<pre style=\"white-space:pre;overflow-x:auto;line-height:normal;font-family:Menlo,'DejaVu Sans Mono',consolas,'Courier New',monospace\">┏━━━━━━━━━━━━━━━━━━━━━━━━━━━━━━━━━━━━━━┳━━━━━━━━━━━━━━━━━━━━━━━━━━━━━┳━━━━━━━━━━━━━━━━━┓\n",
              "┃<span style=\"font-weight: bold\"> Layer (type)                         </span>┃<span style=\"font-weight: bold\"> Output Shape                </span>┃<span style=\"font-weight: bold\">         Param # </span>┃\n",
              "┡━━━━━━━━━━━━━━━━━━━━━━━━━━━━━━━━━━━━━━╇━━━━━━━━━━━━━━━━━━━━━━━━━━━━━╇━━━━━━━━━━━━━━━━━┩\n",
              "│ dense_2 (<span style=\"color: #0087ff; text-decoration-color: #0087ff\">Dense</span>)                      │ (<span style=\"color: #00d7ff; text-decoration-color: #00d7ff\">None</span>, <span style=\"color: #00af00; text-decoration-color: #00af00\">10</span>)                  │              <span style=\"color: #00af00; text-decoration-color: #00af00\">60</span> │\n",
              "├──────────────────────────────────────┼─────────────────────────────┼─────────────────┤\n",
              "│ dense_3 (<span style=\"color: #0087ff; text-decoration-color: #0087ff\">Dense</span>)                      │ (<span style=\"color: #00d7ff; text-decoration-color: #00d7ff\">None</span>, <span style=\"color: #00af00; text-decoration-color: #00af00\">1</span>)                   │              <span style=\"color: #00af00; text-decoration-color: #00af00\">11</span> │\n",
              "└──────────────────────────────────────┴─────────────────────────────┴─────────────────┘\n",
              "</pre>\n"
            ]
          },
          "metadata": {}
        },
        {
          "output_type": "display_data",
          "data": {
            "text/plain": [
              "\u001b[1m Total params: \u001b[0m\u001b[38;5;34m71\u001b[0m (284.00 B)\n"
            ],
            "text/html": [
              "<pre style=\"white-space:pre;overflow-x:auto;line-height:normal;font-family:Menlo,'DejaVu Sans Mono',consolas,'Courier New',monospace\"><span style=\"font-weight: bold\"> Total params: </span><span style=\"color: #00af00; text-decoration-color: #00af00\">71</span> (284.00 B)\n",
              "</pre>\n"
            ]
          },
          "metadata": {}
        },
        {
          "output_type": "display_data",
          "data": {
            "text/plain": [
              "\u001b[1m Trainable params: \u001b[0m\u001b[38;5;34m71\u001b[0m (284.00 B)\n"
            ],
            "text/html": [
              "<pre style=\"white-space:pre;overflow-x:auto;line-height:normal;font-family:Menlo,'DejaVu Sans Mono',consolas,'Courier New',monospace\"><span style=\"font-weight: bold\"> Trainable params: </span><span style=\"color: #00af00; text-decoration-color: #00af00\">71</span> (284.00 B)\n",
              "</pre>\n"
            ]
          },
          "metadata": {}
        },
        {
          "output_type": "display_data",
          "data": {
            "text/plain": [
              "\u001b[1m Non-trainable params: \u001b[0m\u001b[38;5;34m0\u001b[0m (0.00 B)\n"
            ],
            "text/html": [
              "<pre style=\"white-space:pre;overflow-x:auto;line-height:normal;font-family:Menlo,'DejaVu Sans Mono',consolas,'Courier New',monospace\"><span style=\"font-weight: bold\"> Non-trainable params: </span><span style=\"color: #00af00; text-decoration-color: #00af00\">0</span> (0.00 B)\n",
              "</pre>\n"
            ]
          },
          "metadata": {}
        },
        {
          "output_type": "stream",
          "name": "stdout",
          "text": [
            "None\n"
          ]
        }
      ]
    },
    {
      "cell_type": "markdown",
      "source": [
        "✅ **Explanation:** This is a simple **Feedforward Neural Network (FNN)** with **one hidden layer**.\n",
        "\n",
        "---\n",
        "\n",
        "## **🔹 4. Loss Functions**\n",
        "Loss functions measure how well the model performs.\n",
        "\n",
        "| Loss Function | Formula | Use Case |\n",
        "|--------------|---------|----------|\n",
        "| **MSE (Mean Squared Error)** | \\( \\frac{1}{n} \\sum (y - \\hat{y})^2 \\) | Regression |\n",
        "| **Cross-Entropy** | \\( -\\sum y \\log(\\hat{y}) \\) | Classification |\n",
        "\n",
        "✅ **Example: Using MSE in TensorFlow**\n"
      ],
      "metadata": {
        "id": "Sj8ChpzhuSqM"
      }
    },
    {
      "cell_type": "code",
      "source": [
        "y_true = np.array([1, 0, 1])\n",
        "y_pred = np.array([0.8, 0.1, 0.9])\n",
        "mse = keras.losses.MeanSquaredError()\n",
        "print(\"MSE Loss:\", mse(y_true, y_pred).numpy())"
      ],
      "metadata": {
        "colab": {
          "base_uri": "https://localhost:8080/"
        },
        "id": "dUP35IJvuSA6",
        "outputId": "dce6bbfa-4d0b-4b86-9815-8d0f90aa4002"
      },
      "execution_count": 158,
      "outputs": [
        {
          "output_type": "stream",
          "name": "stdout",
          "text": [
            "MSE Loss: 0.020000001\n"
          ]
        }
      ]
    },
    {
      "cell_type": "markdown",
      "source": [
        "## **🔹 5. Backpropagation & Gradient Descent**\n",
        "**Backpropagation** updates model weights by calculating **gradients** using **Gradient Descent**.\n",
        "\n",
        "### ✅ **Gradient Descent Update Formula**\n",
        "\\[\n",
        "w = w - \\alpha \\cdot \\frac{dL}{dw}\n",
        "\\]\n",
        "where:  \n",
        "- \\( w \\) = weight  \n",
        "- \\( \\alpha \\) = learning rate  \n",
        "- \\( \\frac{dL}{dw} \\) = gradient of loss function  \n",
        "\n",
        "✅ **Example: Simple Gradient Descent Update**\n"
      ],
      "metadata": {
        "id": "OSAozZjXuY4s"
      }
    },
    {
      "cell_type": "code",
      "source": [
        "# Example: Updating weights using gradient descent\n",
        "w = 0.5  # Initial weight\n",
        "lr = 0.1  # Learning rate\n",
        "dw = 0.2  # Gradient of loss w.r.t w\n",
        "\n",
        "# Update weight\n",
        "w = w - lr * dw\n",
        "print(\"Updated Weight:\", w)"
      ],
      "metadata": {
        "colab": {
          "base_uri": "https://localhost:8080/"
        },
        "id": "5VekYgO2uYOg",
        "outputId": "f10a1f5a-d5de-415d-c96b-7ba79be1a3f6"
      },
      "execution_count": 159,
      "outputs": [
        {
          "output_type": "stream",
          "name": "stdout",
          "text": [
            "Updated Weight: 0.48\n"
          ]
        }
      ]
    },
    {
      "cell_type": "markdown",
      "source": [
        "## **🔹 6. Optimizers (SGD, Adam, RMSProp)**\n",
        "Optimizers improve training by adjusting weights efficiently.\n",
        "\n",
        "| Optimizer | How It Works | Use Case |\n",
        "|-----------|-------------|----------|\n",
        "| **SGD** | Updates weights using a small batch of data | Basic optimization |\n",
        "| **Adam** | Uses momentum & adaptive learning rates | Most popular optimizer |\n",
        "| **RMSProp** | Divides learning rate by moving average of past gradients | Good for recurrent networks |\n",
        "\n",
        "✅ **Example: Using Adam Optimizer**\n"
      ],
      "metadata": {
        "id": "vD3ARlHgueIf"
      }
    },
    {
      "cell_type": "code",
      "source": [
        "model.compile(optimizer='adam', loss='categorical_crossentropy', metrics=['accuracy'])"
      ],
      "metadata": {
        "id": "OGHTozRBudiC"
      },
      "execution_count": 161,
      "outputs": []
    },
    {
      "cell_type": "markdown",
      "source": [
        "# **📊 Summary**\n",
        "| Topic | Key Takeaways |\n",
        "|-------|--------------|\n",
        "| **Perceptron** | Simplest neural network, used for binary classification |\n",
        "| **Activation Functions** | Add non-linearity (Sigmoid, ReLU, Tanh, Softmax) |\n",
        "| **FNN** | Basic neural network with forward propagation |\n",
        "| **Loss Functions** | MSE (Regression), Cross-Entropy (Classification) |\n",
        "| **Backpropagation** | Computes gradients for weight updates |\n",
        "| **Optimizers** | Adam (Most used), SGD (Basic), RMSProp (For RNNs) |\n",
        "\n",
        "---"
      ],
      "metadata": {
        "id": "YEOvHCDaukv9"
      }
    },
    {
      "cell_type": "code",
      "source": [],
      "metadata": {
        "id": "LqCIpIZIukQx"
      },
      "execution_count": null,
      "outputs": []
    }
  ]
}